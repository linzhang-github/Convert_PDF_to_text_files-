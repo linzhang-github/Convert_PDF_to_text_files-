{
 "cells": [
  {
   "cell_type": "markdown",
   "metadata": {},
   "source": [
    "# How to convert pdf files to text files? \n",
    "---\n",
    "There are different ways to convert pdf to text file, such as using python, some OCR software, or linux commands and etc. Here I will show you two methods to do the pdf converstions. \n",
    "\n",
    "- Use a Python package called pdfminer to convert a pdf file to text file \n",
    "- Use linux commands to perform this work "
   ]
  },
  {
   "cell_type": "markdown",
   "metadata": {},
   "source": [
    "## 1. Use Python package pdfminer to convert a pdf to text file  \n",
    "- install the python package  "
   ]
  },
  {
   "cell_type": "code",
   "execution_count": null,
   "metadata": {
    "scrolled": true
   },
   "outputs": [],
   "source": [
    "!pip install pdfminer==20110515"
   ]
  },
  {
   "cell_type": "markdown",
   "metadata": {},
   "source": [
    "- build up a function to convert the pdf to txt file "
   ]
  },
  {
   "cell_type": "code",
   "execution_count": null,
   "metadata": {},
   "outputs": [],
   "source": [
    "from cStringIO import StringIO\n",
    "from pdfminer.pdfinterp import PDFResourceManager, process_pdf\n",
    "from pdfminer.converter import TextConverter\n",
    "from pdfminer.layout import LAParams"
   ]
  },
  {
   "cell_type": "code",
   "execution_count": null,
   "metadata": {},
   "outputs": [],
   "source": [
    "def to_txt(pdf_path):\n",
    "    input_ = file(pdf_path, 'rb')\n",
    "    output = StringIO()\n",
    "\n",
    "    manager = PDFResourceManager()\n",
    "    converter = TextConverter(manager, output, laparams=LAParams())\n",
    "    process_pdf(manager, converter, input_)\n",
    "\n",
    "    return output.getvalue() "
   ]
  },
  {
   "cell_type": "code",
   "execution_count": null,
   "metadata": {
    "scrolled": false
   },
   "outputs": [],
   "source": [
    "to_txt('~/location_of_the_pdf_file/a.pdf')"
   ]
  },
  {
   "attachments": {},
   "cell_type": "markdown",
   "metadata": {},
   "source": [
    "## 2. Use Linux commands to convert single and a batch of pdf files to txt files   \n",
    "references: \n",
    "- https://www.howtogeek.com/228531/how-to-convert-a-pdf-file-to-editable-text-using-the-command-line-in-linux\n",
    "- https://askubuntu.com/questions/211870/how-to-convert-all-pdf-files-to-text-within-a-folder-with-one-command \n",
    "- https://askubuntu.com/questions/211870/how-to-convert-all-pdf-files-to-text-within-a-folder-with-one-command"
   ]
  },
  {
   "cell_type": "code",
   "execution_count": null,
   "metadata": {},
   "outputs": [],
   "source": [
    "#check if linux has popoler-utils package \n",
    "dpkg -s poppler-utils \n",
    "\n",
    "#if not installed, install this \n",
    "sudo apt-get install poppler-utils  \n",
    "\n",
    "# convert pdf to txt file \n",
    "pdftotext  Your_pdf_file_location/sample.pdf  Your_txt_file_location/sample.txt  \n",
    "\n",
    "#preserve the layout the document from the original file \n",
    "pdftotext sample.pdf sample.txt \n",
    "\n",
    "#convert batch pdfs to text files \n",
    "for file in *.pdf; do pdftotext -layout \"$file\"; done "
   ]
  }
 ],
 "metadata": {
  "kernelspec": {
   "display_name": "Python [conda env:py27]",
   "language": "python",
   "name": "conda-env-py27-py"
  },
  "language_info": {
   "codemirror_mode": {
    "name": "ipython",
    "version": 2
   },
   "file_extension": ".py",
   "mimetype": "text/x-python",
   "name": "python",
   "nbconvert_exporter": "python",
   "pygments_lexer": "ipython2",
   "version": "2.7.16"
  }
 },
 "nbformat": 4,
 "nbformat_minor": 2
}
